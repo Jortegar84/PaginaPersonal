{
 "cells": [
  {
   "cell_type": "code",
   "execution_count": null,
   "metadata": {},
   "outputs": [],
   "source": [
    "print(\"Importamos los módulos\")\n",
    "from arcgis.gis import GIS\n",
    "from arcgis import features\n",
    "import json\n",
    "import pandas as pd    # vamos a usar pandas para leer CSVs\n",
    "#import os\n",
    "\n",
    "print(\"me conecto a Arcgis Online:\")\n",
    "\n",
    "from arcgis.gis import GIS\n",
    "from getpass import getpass\n",
    "\n",
    "source_password = getpass()\n",
    "\n",
    "usuario='USUARIO'\n",
    "passpot=source_password\n",
    "#gis = GIS(\"home\",verify_cert=False)#   debe de estar con el usuario activo\n",
    "gis = GIS('SERVIDOR_ENTERPRISE/arcgis',usuario,passpot,verify_cert=False) \n",
    "#NOTA:   USUARIO EN MAYUSCULA   \n",
    "\n",
    "try:\n",
    "    if os.environ[\"HOME\"] == '/home/arcgis':\n",
    "        print(\"Estoy en Arcgis online\")   \n",
    "        ubicacion='Agol'\n",
    "        \n",
    "except:\n",
    "    print(\"Estoy en Pro o en Anaconda\")\n",
    "    ubicacion='Pro'"
   ]
  },
  {
   "cell_type": "code",
   "execution_count": null,
   "metadata": {},
   "outputs": [],
   "source": [
    "source_users = gis.users.search(usuario)\n",
    "user=source_users[0]\n",
    "#folder_items = user.items(folder=folder['title'])\n",
    "folder_items=user.items(folder=carpeta)\n",
    "pd.DataFrame(folder_items)\n"
   ]
  },
  {
   "cell_type": "code",
   "execution_count": null,
   "metadata": {},
   "outputs": [],
   "source": [
    "# borrado de carpetas:\n",
    "#borro solo los items de la carpeta indicada\n",
    "\n",
    "carpeta=\"PruebasRutas2\"\n",
    "source_users = gis.users.search(usuario)\n",
    "user=source_users[0]\n",
    "folder_items=user.items(folder=carpeta)\n",
    "\n",
    "for item000 in folder_items:\n",
    "    item000.delete()\n",
    "    print(carpeta+\"\\\\\"+item000.title+ \"   borrado\")"
   ]
  },
  {
   "cell_type": "code",
   "execution_count": null,
   "metadata": {},
   "outputs": [],
   "source": [
    "# Solo visualizacion:\n",
    "\n",
    "\n",
    "carpeta=\"PruebasRutas2\"\n",
    "source_users = gis.users.search(usuario)\n",
    "user=source_users[0]\n",
    "folder_items=user.items(folder=carpeta)\n",
    "\n",
    "for item000 in folder_items:    \n",
    "    print(carpeta+\"\\\\\"+item000.title"
   ]
  }
 ],
 "metadata": {
  "kernelspec": {
   "display_name": "ArcGISPro",
   "language": "Python",
   "name": "python3"
  },
  "language_info": {
   "file_extension": ".py",
   "name": "python",
   "version": "3"
  }
 },
 "nbformat": 4,
 "nbformat_minor": 2
}
