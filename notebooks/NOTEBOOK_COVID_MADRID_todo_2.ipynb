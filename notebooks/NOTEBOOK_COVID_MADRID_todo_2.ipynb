{
 "cells": [
  {
   "cell_type": "markdown",
   "metadata": {},
   "source": [
    "El presente script se ejecuta para un Enterprise. Lo primero que hay que hacer es obtener una capa, tipo poligono, de los municipios, y distritos de madrid. El nomre del distrito debe ser único. Junto con la fecha, serán los primary keys. \n",
    "Una vet tienes generada el featura, creas un campo, tipo caracter, que se llame 'plantilla', y le nombramos 1. Este es el punto cruciala, ya que esto permitirá elminiar, actualiza... sin tener que estar volviendo a cargar otra vez al capa.\n",
    "dicionalmente, creamos un campo, tipo 'date' llamado fecha. \n",
    "\n",
    "Los campos creados, anteriormente citados, serán obligatorios para el funcionamiento. En mi cado he incluido un unico campo 'confirmados en los ultimos 14 días'. Peor se puede meter cualquiera que aparezca en el csv.\n",
    "\n",
    "\n",
    "Respecto a los datos, los estoy cogiendo del opendata del ayuntamiento de Madrid. Se puede hacer el proceso análogo para otros datos, tan solo habría que modificar la ruta de datos csv, y el campo de datos.\n",
    "\n",
    "\n"
   ]
  },
  {
   "cell_type": "code",
   "execution_count": 4,
   "metadata": {},
   "outputs": [
    {
     "name": "stdout",
     "output_type": "stream",
     "text": [
      "Inicio: 2021/07/23 09:30:39\n",
      "Lectura csv\n",
      "Lectura de datos de la capa actual\n",
      "Lectura de datos de la capa actual\n",
      "Fin: 2021/07/23 09:30:44\n"
     ]
    }
   ],
   "source": [
    "from arcgis.gis import GIS\n",
    "from datetime import datetime\n",
    "import pandas as pd\n",
    "from arcgis.features import FeatureLayerCollection\n",
    "#parametros:\n",
    "#csv--> datos actuales\n",
    "rutaCovid='https://datos.comunidad.madrid/catalogo/dataset/7da43feb-8d4d-47e0-abd5-3d022d29d09e/resource/f22c3f43-c5d0-41a4-96dc-719214d56968/download/covid19_tia_muni_y_distritos_s.csv'\n",
    "campoCSV1='casos_confirmados_ultimos_14dias'\n",
    "campoCSVmuni='municipio_distrito'\n",
    "campoCSVfecha='fecha_informe'\n",
    "#feature-> capa:   donde se actualiza\n",
    "idIntem_datos='0ee372de9faf421a8a04a09d0846f71f'\n",
    "campoCapa1='confirmados14'\n",
    "campoCapamuni='nombre'\n",
    "campoCapafecha='fecha'\n",
    "\n",
    "\n",
    "\n",
    "print(\"Inicio: \"+datetime.now().strftime(\"%Y/%m/%d %H:%M:%S\"))\n",
    "try:\n",
    "\n",
    "    gis = GIS(\"home\")\n",
    "    #gis = GIS('SERVIDOR_ENTERPRISE/arcgis',USUARIO,PASS,verify_cert=False) \n",
    "except Exception as errorcito:\n",
    "    print(\"Error al conectar con la cuenta de Arcgis - Enterprise \")\n",
    "    print('Error: ' + str(errorcito))\n",
    "\n",
    "#  leo datos csv:\n",
    "try:\n",
    "    print(\"Lectura csv\")\n",
    "    url=rutaCovid\n",
    "    datos = pd.read_csv(url, encoding='latin-1', error_bad_lines=False, sep=';')\n",
    "except Exception as errorcito:\n",
    "    print(\"Error conectar con csv de la web \")\n",
    "    print('Error: ' + str(errorcito))\n",
    "#saco los distritos diferentes:\n",
    "try:\n",
    "    distritos=[]\n",
    "    for i in datos[campoCSVmuni]:\n",
    "        if i not in distritos:\n",
    "            distritos.append(i)\n",
    "except Exception as errorcito:\n",
    "    print(\"Error al sacar los diferentes distritos \")\n",
    "    print('Error: ' + str(errorcito))\n",
    "\n",
    "#   leo los datos ya cargaddos para actualizarlos:\n",
    "print(\"Lectura de datos de la capa actual\")\n",
    "try:\n",
    "    print(\"Lectura de datos de la capa actual\")\n",
    "    datosOLD=gis.content.get(idIntem_datos)\n",
    "    datos2 = FeatureLayerCollection.fromitem(datosOLD)\n",
    "    capa=datos2.layers[0]\n",
    "    print(\"Fin: \"+datetime.now().strftime(\"%Y/%m/%d %H:%M:%S\"))\n",
    "except Exception as errorcito:\n",
    "    print(\"Error al conectar con la capa ya existente\")\n",
    "    print('Error: ' + str(errorcito))\n",
    "\n",
    "\n"
   ]
  },
  {
   "cell_type": "code",
   "execution_count": 5,
   "metadata": {},
   "outputs": [
    {
     "name": "stdout",
     "output_type": "stream",
     "text": [
      "Inicio: 2021/07/23 09:31:03\n",
      "Capa limpiada\n",
      "Fin: 2021/07/23 09:32:49\n"
     ]
    }
   ],
   "source": [
    "try:\n",
    "    #  limpio la capa\n",
    "    print(\"Inicio: \" + datetime.now().strftime(\"%Y/%m/%d %H:%M:%S\"))\n",
    "    for uii in range(0, len(distritos)):\n",
    "\n",
    "        jsonDEL = capa.query(campoCapamuni + \"='\" + distritos[uii] + \"'\" + \"and plantilla is null or plantilla='0'\",\n",
    "                             out_fields=['*'])\n",
    "        # print(campoCapamuni+\"='\"+distritos[uii]+\"'\"+ \"and plantilla is null or plantilla='0'\")\n",
    "        if len(jsonDEL) > 0:\n",
    "            capa.edit_features(deletes=jsonDEL)\n",
    "\n",
    "    print(\"Capa limpiada\")\n",
    "    print(\"Fin: \" + datetime.now().strftime(\"%Y/%m/%d %H:%M:%S\"))\n",
    "except Exception as errorcito:\n",
    "    print(\"Error al limpiar la  informacion de la capa\")\n",
    "    print('Error: ' + str(errorcito))"
   ]
  },
  {
   "cell_type": "code",
   "execution_count": 7,
   "metadata": {
    "scrolled": true
   },
   "outputs": [
    {
     "name": "stdout",
     "output_type": "stream",
     "text": [
      "Inicio: 2021/07/23 09:32:55\n",
      "saco la informacion del csv\n",
      "Fin: 2021/07/23 09:32:56\n"
     ]
    }
   ],
   "source": [
    "# saco los datos del CSV\n",
    "try:\n",
    "    print(\"Inicio: \" + datetime.now().strftime(\"%Y/%m/%d %H:%M:%S\"))\n",
    "    csv_distrito = []\n",
    "    csv_confirmados14 = []\n",
    "    csv_fecha = []\n",
    "\n",
    "    for ooo in range(0, len(datos[campoCSVmuni])):\n",
    "        csv_distrito.append(datos[campoCSVmuni][ooo])\n",
    "        csv_confirmados14.append(datos[campoCSV1][ooo])\n",
    "        csv_fecha.append(datos[campoCSVfecha][ooo])\n",
    "\n",
    "    print(\"saco la informacion del csv\")\n",
    "    print(\"Fin: \" + datetime.now().strftime(\"%Y/%m/%d %H:%M:%S\"))\n",
    "\n",
    "except Exception as errorcito:\n",
    "    print(\"Error sacar informacion del csv\")\n",
    "    print('Error: ' + str(errorcito))\n"
   ]
  },
  {
   "cell_type": "code",
   "execution_count": 8,
   "metadata": {},
   "outputs": [
    {
     "name": "stdout",
     "output_type": "stream",
     "text": [
      "Inicio: 2021/07/23 09:33:05\n",
      "Meto los datos en la capa\n",
      "Se han introducido 11912 datos\n",
      "Fin: 2021/07/23 09:48:52\n"
     ]
    }
   ],
   "source": [
    "try:\n",
    "\n",
    "    print(\"Inicio: \" + datetime.now().strftime(\"%Y/%m/%d %H:%M:%S\"))\n",
    "\n",
    "    formatoFecha = \"%Y/%m/%d %H:%M:%S\"  # formato de fecha que lee del csv   #   probar:  '%d/%m/%y %H:%M:%S'\n",
    "    # formatoFecha='%d/%m/%y %H:%M:%S'   #  formato de fecha que lee del csv   #   probar:  '%d/%m/%y %H:%M:%S'\n",
    "    contador = 0\n",
    "    for iii in range(0, len(distritos)):\n",
    "        for jjj in range(0, len(csv_distrito)):\n",
    "            if csv_distrito[jjj] == distritos[iii]:\n",
    "                contador = contador + 1\n",
    "                # jsonMETE=capa.query(\"nombre='\"+distritos[iii]+\"'\"+\"and plantilla='1'\",out_fields=['*'])\n",
    "                jsonMETE = capa.query(campoCapamuni + \"='\" + distritos[iii] + \"'\" + \"and plantilla='1'\", out_fields=['*'])\n",
    "                jsonMETE.features[0].attributes[campoCapamuni] = distritos[iii]\n",
    "                # jsonMETE.features[0].geometry=geometria[iii]\n",
    "                jsonMETE.features[0].attributes['plantilla'] = '0'\n",
    "                if str(csv_confirmados14[jjj]) == 'nan':\n",
    "                    jsonMETE.features[0].attributes[campoCapa1] = None\n",
    "                else:\n",
    "                    jsonMETE.features[0].attributes[campoCapa1] = int(csv_confirmados14[jjj])\n",
    "                date_time_obj = datetime.strptime(csv_fecha[jjj], formatoFecha)  # '%d/%m/%y %H:%M:%S')\n",
    "                # jsonMETE.features[0].attributes['fecha']=csv_fecha[jjj]\n",
    "                jsonMETE.features[0].attributes[campoCapafecha] = date_time_obj\n",
    "                # 2021/06/29 12:04:00\n",
    "\n",
    "                accion = capa.edit_features(adds=jsonMETE)\n",
    "                if accion['addResults'][0].get('success') == False:\n",
    "                    print(\"Error--> no se introduce el siguiente valor:\")\n",
    "                    print(\"Distrito: \" + distritos[iii] + \" fecha: \" + csv_fecha[jjj] + \"Confirmados: \" + csv_confirmados14[\n",
    "                        jjj])\n",
    "                    print(\"Causa: \" + accion['addResults'][0].get('error'))\n",
    "\n",
    "    print(\"Meto los datos en la capa\")\n",
    "    datosOLD.update({'description' : \"Ultima actualizacion \"+datetime.now().strftime(\"%Y/%m/%d %H:%M:%S\") +\"-- Existen \"+str(contador)+\" datos\"})\n",
    "    print(\"Se han introducido \" + str(contador) + \" datos\")\n",
    "    print(\"Fin: \" + datetime.now().strftime(\"%Y/%m/%d %H:%M:%S\"))\n",
    "except Exception as errorcito:\n",
    "    print(\"Error al introducir los datos en la capa\")\n",
    "    print('Error: ' + str(errorcito))\n",
    "\n"
   ]
  }
 ],
 "metadata": {
  "kernelspec": {
   "display_name": "ArcGISPro",
   "language": "Python",
   "name": "python3"
  },
  "language_info": {
   "file_extension": ".py",
   "name": "python",
   "version": "3"
  }
 },
 "nbformat": 4,
 "nbformat_minor": 2
}
